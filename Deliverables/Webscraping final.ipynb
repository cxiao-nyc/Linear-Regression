{
 "cells": [
  {
   "cell_type": "code",
   "execution_count": 1,
   "id": "099b4005-e70c-47c5-ae15-82713c0e7d3c",
   "metadata": {},
   "outputs": [],
   "source": [
    "from bs4 import BeautifulSoup\n",
    "import requests\n",
    "import time\n",
    "import numpy as np\n",
    "import random\n",
    "import pandas as pd"
   ]
  },
  {
   "cell_type": "code",
   "execution_count": 2,
   "id": "ece5e7d1-c0c1-4c0c-8acd-f5f17948fd3a",
   "metadata": {},
   "outputs": [],
   "source": [
    "movie_titles = []\n",
    "genre = []\n",
    "certifications = []\n",
    "director = []\n",
    "stars = []\n",
    "year = []\n",
    "runtime = []\n",
    "votes = []\n",
    "metascore = []\n",
    "imdb_rating = []\n",
    "gross = []"
   ]
  },
  {
   "cell_type": "code",
   "execution_count": 3,
   "id": "ffe383dc-936b-41ad-81e9-a5190046ca3c",
   "metadata": {},
   "outputs": [],
   "source": [
    "pages = np.arange(1,3001,50)"
   ]
  },
  {
   "cell_type": "code",
   "execution_count": 4,
   "id": "9951c420-9c60-4023-b87b-0b29fda712ae",
   "metadata": {},
   "outputs": [],
   "source": [
    "for page in pages:\n",
    "    page = requests.get('https://www.imdb.com/search/title/?title_type=feature,tv_movie,documentary,short&colors=color&sort=num_votes,desc&start='+str(page)+'&ref_=adv_nxt')\n",
    "    soup = BeautifulSoup(page.text, 'html.parser')\n",
    "   \n",
    "    movie_data = soup.find_all('div',{'class':'lister-item mode-advanced'})\n",
    "    \n",
    "    for movie in movie_data:\n",
    "        \n",
    "        #title of movie\n",
    "        title = movie.h3.a.text\n",
    "        movie_titles.append(title)\n",
    "        \n",
    "        #year of movie release and removing parentheses\n",
    "        year_release = movie.h3.find('span', {'class':'lister-item-year text-muted unbold'}).text.replace('(','').replace(')','').replace('V','').replace('I','').replace('X','').strip()\n",
    "        year.append(year_release)\n",
    "        \n",
    "        #how long each movie was and removing 'min' and white spaces\n",
    "        duration = movie.p.find('span',{'class':'runtime'}).text.replace('min','').strip()\n",
    "        runtime.append(duration)\n",
    "\n",
    "        #votes/gross'in millions'\n",
    "        values = movie.find_all('span',{'name':'nv'})\n",
    "        voting = values[0].text.replace(',','')\n",
    "        votes.append(voting)\n",
    "\n",
    "        if len(values) > 1:\n",
    "            profit = values[1].text.replace('M','').replace('$','')\n",
    "            gross.append(profit)\n",
    "        else:\n",
    "            null = None\n",
    "            gross.append(null)\n",
    "\n",
    "        #metascore\n",
    "        if movie.find('div',{'class':'inline-block ratings-metascore'}):\n",
    "            score = movie.find('div',{'class':'inline-block ratings-metascore'}).text.replace('\\n','').replace('Metascore','').strip()\n",
    "            metascore.append(score)\n",
    "        else:\n",
    "            null = None\n",
    "            metascore.append(null)    \n",
    "\n",
    "        #rating\n",
    "        rating = movie.find('div',{'class':'inline-block ratings-imdb-rating'}).text.replace('\\n','')\n",
    "        imdb_rating.append(float(rating))\n",
    "\n",
    "        #type of movie \n",
    "        movie_type = movie.p.find('span',{'class':'genre'}).text.replace('\\n','').strip()\n",
    "        genre.append(movie_type)\n",
    "\n",
    "\n",
    "        #content rating \n",
    "        if movie.p.find('span',{'class':'certificate'}):\n",
    "            content = movie.p.find('span',{'class':'certificate'}).text\n",
    "            if content == 'Not Rated':\n",
    "                content = None\n",
    "\n",
    "            certifications.append(content) \n",
    "        else:\n",
    "            null = None\n",
    "            certifications.append(null)\n",
    "\n",
    "        #director/stars of movie \n",
    "        cast = movie.find('p',class_='').text.replace('\\n','').replace('Director:','').replace('Directors:','').replace('Stars:','').split('|')\n",
    "        cast[0],cast[1] = [person.strip() for person in cast]\n",
    "        director.append(cast[0])\n",
    "        stars.append(cast[1])"
   ]
  },
  {
   "cell_type": "code",
   "execution_count": 5,
   "id": "e5b7e63e-2b4d-4497-8e84-e4cc0013e248",
   "metadata": {},
   "outputs": [],
   "source": [
    "features = [movie_titles,imdb_rating, genre, certifications, director, stars, year, gross, runtime, votes, metascore]\n",
    "headers = ['Title','IMDB Rating','Genre','Content Rating','Director','Stars', 'Release Year','Domestic Gross Earnings','Runtime','Votes','Metascore']\n"
   ]
  },
  {
   "cell_type": "code",
   "execution_count": 6,
   "id": "4ba1cb88-496f-4012-ab37-8d131b308879",
   "metadata": {},
   "outputs": [],
   "source": [
    "imdb_dict = dict(zip(headers,features))"
   ]
  },
  {
   "cell_type": "code",
   "execution_count": 7,
   "id": "f82e7f4c-e933-420e-855c-d03c536f17b4",
   "metadata": {},
   "outputs": [],
   "source": [
    "imdb = pd.DataFrame.from_dict(imdb_dict, orient='columns')"
   ]
  },
  {
   "cell_type": "code",
   "execution_count": 8,
   "id": "2915a0ae-160b-4db5-b6a1-0a0b12395da5",
   "metadata": {},
   "outputs": [],
   "source": [
    "imdb.to_csv('imdb_movies.csv',header=True,index=False)"
   ]
  },
  {
   "cell_type": "code",
   "execution_count": null,
   "id": "dfb64116-7c46-49f5-8c45-12396e41887b",
   "metadata": {},
   "outputs": [],
   "source": []
  }
 ],
 "metadata": {
  "kernelspec": {
   "display_name": "Python [conda env:metis] *",
   "language": "python",
   "name": "conda-env-metis-py"
  },
  "language_info": {
   "codemirror_mode": {
    "name": "ipython",
    "version": 3
   },
   "file_extension": ".py",
   "mimetype": "text/x-python",
   "name": "python",
   "nbconvert_exporter": "python",
   "pygments_lexer": "ipython3",
   "version": "3.8.10"
  }
 },
 "nbformat": 4,
 "nbformat_minor": 5
}

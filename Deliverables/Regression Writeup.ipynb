{
 "cells": [
  {
   "cell_type": "markdown",
   "id": "598ccc9f-3370-4e7c-a9a0-e452eda141c3",
   "metadata": {},
   "source": [
    "# Predicting IMDB Rating on Movies\n",
    "\n",
    "Connie Xiao"
   ]
  },
  {
   "cell_type": "markdown",
   "id": "f9310411-8fe2-4b6e-a9d9-d3829f895959",
   "metadata": {},
   "source": [
    "## Abstract"
   ]
  },
  {
   "cell_type": "markdown",
   "id": "9f31ba84-6d6d-4811-9548-82da54cf7d95",
   "metadata": {},
   "source": [
    "The goal of this project is to build a regression model that will determine how well a movie is perceived by the public via IMDB ratings. Clients, such as film production companies, can benefit from this model by being able to predict which movie will have a high IMDB rating. This gives them the ability to gauge how viewers enjoyed their production and to know what features to include in their productions.\n",
    "In order to model the regression, I webscraped data off of IMDB's website. After analyzing the data, it can determine the best key features that would maximize IMDB ratings."
   ]
  },
  {
   "cell_type": "markdown",
   "id": "a90762f2-8a22-4763-bb18-4ddf229a0932",
   "metadata": {},
   "source": [
    "## Design"
   ]
  },
  {
   "cell_type": "markdown",
   "id": "ccd69854-c376-4ceb-89ef-2de63812023a",
   "metadata": {},
   "source": [
    "To predict IMDB ratings,the relationships between variables that may affect the rating (features) should be explored. There are different types of features, categorical and numerical. Start by exploring the correlations between the predictive value and features. Observe if there are any numerical features that collide with each other. To deal with categorical features, we must use Pandas to get dummy variables since it is not possible to compute text-based values into a regression.\n",
    "\n",
    "After cleaning and manipulating the data, start by looking at the different types of regression that can give us the best R-score. To do so, the data must be split into training and testing sets, making sure to only manipulate and work with training and using our training model on our testing set to receive the best preditive model."
   ]
  },
  {
   "cell_type": "markdown",
   "id": "51fe20dc-c4e1-4f54-baa4-1599ca7e9fb1",
   "metadata": {},
   "source": [
    "## Data"
   ]
  },
  {
   "cell_type": "markdown",
   "id": "efecd393-ea8e-452b-b4c1-3910c4bbc981",
   "metadata": {},
   "source": [
    "The dataset was gathered from IMDB.com with 10 features in total, 6 numerical and 4 categorical. I was able to receive 3000 data points of movies that were ranked by number of votes.\n",
    "Numerical features include: Metascore, Release Year, Gross Earnings\n",
    "Categorical features include: Genres, MPAA, Director\n",
    "\n",
    "\n",
    "\n"
   ]
  },
  {
   "cell_type": "markdown",
   "id": "13fbc301-60fd-44cc-bfb0-c1138698abbb",
   "metadata": {},
   "source": [
    "## Algorithm"
   ]
  },
  {
   "cell_type": "markdown",
   "id": "6c404d81-c82b-4e97-ad6d-63c4f8c2d36f",
   "metadata": {},
   "source": [
    "#### Data Collection/Cleaning\n",
    "\n",
    "To gather data, webscrapping was used on IMDB.com with BeautifulSoup. A for loop was created to parse through each page and to extract a selection of features. Features that was able to extracted includes:\n",
    "- Title\n",
    "- IMDB Rating\n",
    "- Number of votes\n",
    "- Metascore\n",
    "- MPAA (Content Rating)\n",
    "- Gross Earnings\n",
    "- Directors\n",
    "- Stars\n",
    "- Genre\n",
    "- Runtime\n",
    "- Release Year\n",
    "\n",
    "Noticed how there was about 200 null values in Gross Earnings and concluded that it was best to drop those rows. Next, it was to make sure there are duplicate entries of the same movie which was about 50 movies. There were couple of null Metascore values as well. Instead of dropping those rows, it was filled in with the dataset's mean Metascore. \n",
    "\n",
    "#### Feature Engineering\n",
    "\n",
    "A pairplot and a heatmap was made to visualize the correlations between the numerical features and our target value, IMDB Rating. Metascore and IMDB Rating seemed to have a strong positive correlation, it would be wise to include Metascore as a feature. Votes and Runtime had a positive correlation but not as strong as Metascore, and Release Year had a correlation close to 0.\n",
    "\n",
    "To determine any severe cases of multicollinearity, the Variance Inflation Factor was used. In this case, Votes and Domestic Gross Earning had fairly low VIF around 2. However Runtime and Release Year had fairly high VIF of 35 and 38. Release Year was removed since it was higher and Runtime and Metascore remained with a VIF around 12.\n",
    "\n",
    "For the first approach on feature engineering, all the numeric features were included: Runtime, Metascore, Gross Earning and Votes except Release Year since it showed high multicollinearity. The R² score result was 0.616. This was a surprisingly result since I did not expect it to be so high already. \n",
    "\n",
    "Next is to add more features. Since Release Year was not incoporated into the engineering, perhaps finding how long since its release could give us a better gauge on the relationship with ratings. It increased the R² score to 0.616. \n",
    "\n",
    "To face the categorical features, dummies had to be extracted. This was done on genres, directors and content rating. After incoporating dummy categories, the R² score was 0.674. So far  the added features have increase the R² score by 0.06.\n",
    "\n",
    "After adding the desired features, its time to train and validate the model.\n",
    "Linear and Polynomial Regression was done first. The data set was split up into training and testing sets each with it's desired features and target value. The Polynomial Regression was measured to a degree of 2. R² score for Linear was 0.69 on training and 0.598 on validation. R² scorefor Polynomial was 0.82 on training and 0.39 on validation. This is a clear overfitting of our model on both regressions.\n",
    "\n",
    "Next, a Linear vs Ridge Regression was compare using cross validation. Tehir R² scores were similar 0.667 with a standard deviation of 0.018. \n",
    "\n",
    "#### Testing\n",
    "\n",
    "Given that Ridge Regression and Linear Regression gave the best results, it's time to test them. R² test score for Ridge was 0.587 and R² test score for Linear was 0.598. This did was not surprising. Although Linear Regression did a better job at fitting, it is clear that the model is overfitting. All 5 validation scares were within similar range and did not raise any concerns. \n",
    "\n",
    "Finally, its time to put the testing set to the challenge. After finding the optimal alpha for Ridge Regression R² score for the testing set came out to 0.609 with a mean absolute error of 0.384. \n",
    "\n",
    "#### Features to include for a good IMDB Rating\n",
    "\n",
    "To find out the most important features that may contribute to a good IMDB Rating, it is important to look at each feature's coefficient. The biggest contributing factor was how long ago the movie was released! This was a big surprise to for me. Next was Metascore, which made sense since Metascore is a rating system as well. As for categorical features, having content rating of 'Approved' may help, as well as the genres Biography, Family, Drama, Comedy, Thriller and any movies by Steven Spielberg."
   ]
  },
  {
   "cell_type": "markdown",
   "id": "60e0895f-70b9-40b4-a7a8-88264cd13ace",
   "metadata": {},
   "source": [
    "## Tools"
   ]
  },
  {
   "cell_type": "markdown",
   "id": "fed43cf3-890c-483f-9d82-2870fbffa3a7",
   "metadata": {},
   "source": [
    "- BeautifulSoup\n",
    "    - Web scraping\n",
    "- Numpy and Pandas\n",
    "    - Data manipulation\n",
    "- Seaborn, Matplotlib\n",
    "    - Visuals\n",
    "- Sklearn: StandardScaler, Ridge, Lasso, StandardScaler & Cross Validation\n",
    "    - Preditive modeling"
   ]
  },
  {
   "cell_type": "markdown",
   "id": "4f831eea-303c-4b6f-98cb-66099b0030fd",
   "metadata": {},
   "source": [
    "## Communication"
   ]
  },
  {
   "cell_type": "markdown",
   "id": "3ce13f63-a985-4ad8-afca-c59c270a7a87",
   "metadata": {},
   "source": [
    "A presentation slide and visuals."
   ]
  }
 ],
 "metadata": {
  "kernelspec": {
   "display_name": "Python [conda env:metis] *",
   "language": "python",
   "name": "conda-env-metis-py"
  },
  "language_info": {
   "codemirror_mode": {
    "name": "ipython",
    "version": 3
   },
   "file_extension": ".py",
   "mimetype": "text/x-python",
   "name": "python",
   "nbconvert_exporter": "python",
   "pygments_lexer": "ipython3",
   "version": "3.8.10"
  }
 },
 "nbformat": 4,
 "nbformat_minor": 5
}
